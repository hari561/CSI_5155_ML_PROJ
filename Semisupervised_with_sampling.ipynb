{
 "cells": [
  {
   "cell_type": "markdown",
   "metadata": {},
   "source": [
    "# Semi-supervised - label propagation"
   ]
  },
  {
   "cell_type": "code",
   "execution_count": 5,
   "metadata": {},
   "outputs": [
    {
     "name": "stdout",
     "output_type": "stream",
     "text": [
      "(67836, 22)\n"
     ]
    }
   ],
   "source": [
    "import pandas as pd\n",
    "\n",
    "from sklearn.metrics import roc_curve,auc,precision_recall_curve,confusion_matrix,accuracy_score,classification_report\n",
    "from sklearn.preprocessing import LabelEncoder\n",
    "from sklearn.model_selection import KFold\n",
    "from sklearn.neighbors import KNeighborsClassifier\n",
    "from sklearn.model_selection import cross_val_score\n",
    "from sklearn.naive_bayes import GaussianNB\n",
    "import statistics\n",
    "from sklearn.multiclass import OneVsRestClassifier\n",
    "\n",
    "data=pd.read_csv(r'C:\\Users\\ADMIN\\Desktop\\new_df.csv')\n",
    "df = pd.DataFrame(data)\n",
    "test_df = df\n",
    "\n",
    "print(df.shape)\n"
   ]
  },
  {
   "cell_type": "code",
   "execution_count": 7,
   "metadata": {},
   "outputs": [
    {
     "name": "stdout",
     "output_type": "stream",
     "text": [
      "(67836,)\n",
      "0    1\n",
      "1    2\n",
      "2    2\n",
      "3    2\n",
      "4    1\n",
      "Name: readmitted, dtype: int32\n"
     ]
    }
   ],
   "source": [
    "label_encoder = LabelEncoder()\n",
    "df['readmitted']= label_encoder.fit_transform(df['readmitted']) \n",
    "print(df['readmitted'].shape)\n",
    "print(df['readmitted'].head(5))"
   ]
  },
  {
   "cell_type": "code",
   "execution_count": 8,
   "metadata": {},
   "outputs": [
    {
     "name": "stdout",
     "output_type": "stream",
     "text": [
      "target :  (67836,)\n",
      "features :  (67836, 21)\n"
     ]
    }
   ],
   "source": [
    "y = data['readmitted']\n",
    "x = data.drop('readmitted', axis=1)\n",
    "print('target : ', y.shape)\n",
    "print('features : ',x.shape)"
   ]
  },
  {
   "cell_type": "code",
   "execution_count": 9,
   "metadata": {},
   "outputs": [
    {
     "name": "stdout",
     "output_type": "stream",
     "text": [
      "(67836, 36)\n"
     ]
    }
   ],
   "source": [
    "x = pd.get_dummies(x,drop_first=True)\n",
    "print(x.shape)\n",
    "\n",
    "\n"
   ]
  },
  {
   "cell_type": "code",
   "execution_count": 10,
   "metadata": {},
   "outputs": [
    {
     "name": "stdout",
     "output_type": "stream",
     "text": [
      "\n",
      "Balanced sampling using SMOTETomek:\n",
      "SMOTETomek Resampled dataset shape Counter({2: 39953, 0: 39598, 1: 21751})\n"
     ]
    }
   ],
   "source": [
    "# Balanced sampling technique - SMOTEMEK - imbalanced data\n",
    "\n",
    "from collections import Counter\n",
    "from imblearn.under_sampling import TomekLinks \n",
    "from imblearn.combine import SMOTETomek\n",
    "from imblearn.over_sampling import SMOTE\n",
    "\n",
    "smote_sampler = SMOTE(sampling_strategy='minority')\n",
    "tomek_sampler = TomekLinks(sampling_strategy='majority')\n",
    "\n",
    "print('\\nBalanced sampling using SMOTETomek:')\n",
    "\n",
    "smt = SMOTETomek(random_state=52,smote=smote_sampler,tomek=tomek_sampler)\n",
    "X, Y = smt.fit_resample(x, y)\n",
    "print('SMOTETomek Resampled dataset shape %s' % Counter(Y))"
   ]
  },
  {
   "cell_type": "code",
   "execution_count": 11,
   "metadata": {},
   "outputs": [],
   "source": [
    "# user-defined unlabelling function\n",
    "\n",
    "import random\n",
    "\n",
    "def maskfunc(true_target, percentage):\n",
    "    if (percentage >=0 and percentage <= 100):\n",
    "       \n",
    "        n_total_samples = len(true_target)\n",
    "        unlabel = (100-percentage)\n",
    "        n_labeled_points = int((unlabel * n_total_samples)/100)\n",
    "        indices = np.arange(n_total_samples)\n",
    "        unlabeled_set = indices[n_labeled_points:]\n",
    "        \n",
    "        labels = true_target.copy()\n",
    "        labels[unlabeled_set] = -1\n",
    "        \n",
    "        print('Total samples considered :\\t\\t',n_total_samples)\n",
    "        print('Count of labelled points at ',percentage,'% :\\t',n_labeled_points)\n",
    "        print('Count of unlabelled points at ',percentage,'% :\\t',(n_total_samples - n_labeled_points))\n",
    "        return labels,unlabeled_set\n",
    "    else: \n",
    "        return 'Percentage not in range of (0,100)'\n",
    "    \n",
    "\n"
   ]
  },
  {
   "cell_type": "code",
   "execution_count": 12,
   "metadata": {},
   "outputs": [],
   "source": [
    "# classification report and confusion matrix function\n",
    "\n",
    "def report_conf(unlabeled_set_value, percen):\n",
    "    unlabeled_set = unlabeled_set_value\n",
    "    predicted_labels = label_prop_model.transduction_[unlabeled_set]\n",
    "    true_labels = Y[unlabeled_set]\n",
    "    print('Classifcation report at ',percen,'% :\\n')\n",
    "    print(classification_report(true_labels, predicted_labels))\n",
    "\n",
    "    cm = confusion_matrix(true_labels, predicted_labels, labels=label_prop_model.classes_)\n",
    "    print('Confusion matrix at ',percen,'% :\\n',cm)"
   ]
  },
  {
   "cell_type": "code",
   "execution_count": 1,
   "metadata": {},
   "outputs": [
    {
     "name": "stdout",
     "output_type": "stream",
     "text": [
      "Total samples considered : 101250\n",
      "Count of labelled points at  0 % : 101250\n",
      "Count of unlabelled points at  0 % : 0\n",
      "\n",
      "Accuracy with 0 % unlabelled data 0.6733\n"
     ]
    }
   ],
   "source": [
    "import numpy as np\n",
    "import warnings\n",
    "warnings.filterwarnings('ignore')\n",
    "\n",
    "from sklearn import datasets\n",
    "from sklearn.semi_supervised import LabelPropagation\n",
    "\n",
    "score = {}\n",
    "#RUN THE MODEL\n",
    "label_prop_model = LabelPropagation(kernel='knn', n_neighbors=8, max_iter=100, gamma=20,n_jobs=None)\n",
    "\n",
    "# 100% labelled data\n",
    "ml,unlabeled_set_0 = maskfunc(Y, 0)\n",
    "label_prop_model.fit(X, ml)\n",
    "score_zero = label_prop_model.score(X, ml)\n",
    "print('\\nAccuracy with 0 % unlabelled data\\t',round(score_zero,4))\n",
    "\n",
    "print('\\nMetrics:\\n')\n",
    "predicted_labels = label_prop_model.transduction_[unlabeled_set_0]\n",
    "true_labels = Y[unlabeled_set_0]\n",
    "cm = confusion_matrix(true_labels, predicted_labels, labels=label_prop_model.classes_)\n",
    "print('Classifcation report at 0% :\\n')\n",
    "print(classification_report(true_labels, predicted_labels))\n",
    "print('Confusion matrix at 0% :\\n',cm)\n",
    "\n"
   ]
  },
  {
   "cell_type": "code",
   "execution_count": 264,
   "metadata": {},
   "outputs": [
    {
     "name": "stdout",
     "output_type": "stream",
     "text": [
      "Total samples considered :\t\t 101250\n",
      "Count of labelled points at  10 % :\t 91125\n",
      "Count of unlabelled points at  10 % :\t 10125\n",
      "Accuracy with 10 % unlabelled data\t 0.5931\n",
      "Classifcation report at  10 % :\n",
      "\n",
      "              precision    recall  f1-score   support\n",
      "\n",
      "           0       1.00      0.93      0.96     10125\n",
      "           1       0.00      0.00      0.00         0\n",
      "           2       0.00      0.00      0.00         0\n",
      "\n",
      "    accuracy                           0.93     10125\n",
      "   macro avg       0.33      0.31      0.32     10125\n",
      "weighted avg       1.00      0.93      0.96     10125\n",
      "\n",
      "Confusion matrix at  10 % :\n",
      " [[9374  217  534]\n",
      " [   0    0    0]\n",
      " [   0    0    0]]\n"
     ]
    }
   ],
   "source": [
    "# 90% labelled data\n",
    "ml,unlabeled_set_10 = maskfunc(Y, 10)\n",
    "label_prop_model.fit(X, ml)\n",
    "score_ten = label_prop_model.score(X, ml)\n",
    "print('\\nAccuracy with 10 % unlabelled data\\t',round(score_ten,4))\n",
    "print('\\nMetrics:\\n')\n",
    "report_conf(unlabeled_set_10,10)"
   ]
  },
  {
   "cell_type": "code",
   "execution_count": 265,
   "metadata": {},
   "outputs": [
    {
     "name": "stdout",
     "output_type": "stream",
     "text": [
      "Total samples considered :\t\t 101250\n",
      "Count of labelled points at  20 % :\t 81000\n",
      "Count of unlabelled points at  20 % :\t 20250\n",
      "Accuracy with 20 % unlabelled data\t 0.513\n",
      "\n",
      "Metrics:\n",
      "\n",
      "Classifcation report at  20 % :\n",
      "\n",
      "              precision    recall  f1-score   support\n",
      "\n",
      "           0       1.00      0.87      0.93     20250\n",
      "           1       0.00      0.00      0.00         0\n",
      "           2       0.00      0.00      0.00         0\n",
      "\n",
      "    accuracy                           0.87     20250\n",
      "   macro avg       0.33      0.29      0.31     20250\n",
      "weighted avg       1.00      0.87      0.93     20250\n",
      "\n",
      "Confusion matrix at  20 % :\n",
      " [[17575   728  1947]\n",
      " [    0     0     0]\n",
      " [    0     0     0]]\n"
     ]
    }
   ],
   "source": [
    "# 80% labelled data\n",
    "ml,unlabeled_set_20 = maskfunc(Y, 20)\n",
    "label_prop_model.fit(X, ml)\n",
    "score_twenty = label_prop_model.score(X, ml)\n",
    "print('\\nAccuracy with 20 % unlabelled data\\t',round(score_twenty,4))\n",
    "print('\\nMetrics:\\n')\n",
    "report_conf(unlabeled_set_20,20)"
   ]
  },
  {
   "cell_type": "code",
   "execution_count": 266,
   "metadata": {},
   "outputs": [
    {
     "name": "stdout",
     "output_type": "stream",
     "text": [
      "Total samples considered :\t\t 101250\n",
      "Count of labelled points at  50 % :\t 50625\n",
      "Count of unlabelled points at  50 % :\t 50625\n",
      "\n",
      "Accuracy with 50 % unlabelled data\t 0.1771\n",
      "\n",
      "Metrics:\n",
      "\n",
      "Classifcation report at  50 % :\n",
      "\n",
      "              precision    recall  f1-score   support\n",
      "\n",
      "           0       0.73      0.84      0.78     34807\n",
      "           1       0.14      0.13      0.13      4193\n",
      "           2       0.37      0.21      0.27     11625\n",
      "\n",
      "    accuracy                           0.64     50625\n",
      "   macro avg       0.41      0.39      0.39     50625\n",
      "weighted avg       0.60      0.64      0.61     50625\n",
      "\n",
      "Confusion matrix at  50 % :\n",
      " [[29356  1994  3457]\n",
      " [ 2946   534   713]\n",
      " [ 7918  1289  2418]]\n"
     ]
    }
   ],
   "source": [
    "# 50% labelled data\n",
    "ml,unlabeled_set_50 = maskfunc(Y, 50)\n",
    "label_prop_model.fit(X, ml)\n",
    "score_fifty = label_prop_model.score(X, ml)\n",
    "print('\\nAccuracy with 50 % unlabelled data\\t',round(score_fifty,4))\n",
    "print('\\nMetrics:\\n')\n",
    "report_conf(unlabeled_set_50,50)"
   ]
  },
  {
   "cell_type": "code",
   "execution_count": 267,
   "metadata": {},
   "outputs": [
    {
     "name": "stdout",
     "output_type": "stream",
     "text": [
      "Total samples considered :\t\t 101250\n",
      "Count of labelled points at  90 % :\t 10125\n",
      "Count of unlabelled points at  90 % :\t 91125\n",
      "\n",
      "Accuracy with 90 % unlabelled data\t 0.016\n",
      "\n",
      "Metrics:\n",
      "\n",
      "Classifcation report at  90 % :\n",
      "\n",
      "              precision    recall  f1-score   support\n",
      "\n",
      "           0       0.43      0.98      0.59     38588\n",
      "           1       0.21      0.01      0.02     18072\n",
      "           2       0.48      0.02      0.04     34465\n",
      "\n",
      "    accuracy                           0.42     91125\n",
      "   macro avg       0.37      0.34      0.22     91125\n",
      "weighted avg       0.40      0.42      0.27     91125\n",
      "\n",
      "Confusion matrix at  90 % :\n",
      " [[37707   383   498]\n",
      " [17610   215   247]\n",
      " [33369   412   684]]\n"
     ]
    }
   ],
   "source": [
    "\n",
    "# 10% labelled data\n",
    "ml,unlabeled_set_90 = maskfunc(Y, 90)\n",
    "label_prop_model.fit(X, ml)\n",
    "score_ninety = label_prop_model.score(X, ml)\n",
    "print('\\nAccuracy with 90 % unlabelled data\\t',round(score_ninety,4))\n",
    "print('\\nMetrics:\\n')\n",
    "report_conf(unlabeled_set_90,90)\n"
   ]
  },
  {
   "cell_type": "code",
   "execution_count": 268,
   "metadata": {},
   "outputs": [
    {
     "name": "stdout",
     "output_type": "stream",
     "text": [
      "Total samples considered :\t\t 101250\n",
      "Count of labelled points at  95 % :\t 5062\n",
      "Count of unlabelled points at  95 % :\t 96188\n",
      "\n",
      "Accuracy with 95 % unlabelled data\t 0.0072\n",
      "\n",
      "Metrics:\n",
      "\n",
      "Classifcation report at  95 % :\n",
      "\n",
      "              precision    recall  f1-score   support\n",
      "\n",
      "           0       0.41      0.99      0.58     39065\n",
      "           1       0.21      0.01      0.01     19791\n",
      "           2       0.54      0.01      0.02     37332\n",
      "\n",
      "    accuracy                           0.41     96188\n",
      "   macro avg       0.39      0.34      0.20     96188\n",
      "weighted avg       0.42      0.41      0.25     96188\n",
      "\n",
      "Confusion matrix at  95 % :\n",
      " [[38643   207   215]\n",
      " [19532   121   138]\n",
      " [36673   237   422]]\n"
     ]
    }
   ],
   "source": [
    "# 5% labelled data\n",
    "ml,unlabeled_set_95 = maskfunc(Y, 95)\n",
    "label_prop_model.fit(X, ml)\n",
    "score_ninefive = label_prop_model.score(X, ml)\n",
    "print('\\nAccuracy with 95 % unlabelled data\\t',round(score_ninefive,4))\n",
    "print('\\nMetrics:\\n')\n",
    "report_conf(unlabeled_set_95,95)"
   ]
  },
  {
   "cell_type": "markdown",
   "metadata": {},
   "source": [
    "# Semisupervised learning - label spreading"
   ]
  },
  {
   "cell_type": "code",
   "execution_count": 13,
   "metadata": {},
   "outputs": [],
   "source": [
    "from sklearn.semi_supervised import LabelSpreading\n",
    "\n",
    "label_spread_model = LabelSpreading(kernel='knn',n_neighbors=7)\n",
    "\n"
   ]
  },
  {
   "cell_type": "code",
   "execution_count": 22,
   "metadata": {},
   "outputs": [],
   "source": [
    "# classification report and confusion matrix function\n",
    "from sklearn.metrics import roc_curve,auc,precision_recall_curve,confusion_matrix,accuracy_score,classification_report\n",
    "import time\n",
    "import numpy as np\n",
    "def report_conf_spread(unlabeled_set_value, percen):\n",
    "    unlabeled_set = unlabeled_set_value\n",
    "    predicted_labels = label_spread_model.transduction_[unlabeled_set]\n",
    "    true_labels = Y[unlabeled_set]\n",
    "    \n",
    "    cm = confusion_matrix(true_labels, predicted_labels, labels=label_spread_model.classes_)\n",
    "    print('Classifcation report at ',percen,'% :\\n')\n",
    "    print(classification_report(true_labels, predicted_labels))\n",
    "\n",
    "    print('Confusion matrix at ',percen,'% :\\n',cm)"
   ]
  },
  {
   "cell_type": "code",
   "execution_count": 275,
   "metadata": {},
   "outputs": [
    {
     "name": "stdout",
     "output_type": "stream",
     "text": [
      "Accuracy with 0 % unlabelled data\t 0.6856\n",
      "Run time :\t 490.89  seconds\n"
     ]
    }
   ],
   "source": [
    "# 100% labelled data\n",
    "start = time.time()\n",
    "label_spread_model.fit(X, Y)\n",
    "sp_score_zero = label_spread_model.score(X, Y)\n",
    "print('Accuracy with 0 % unlabelled data\\t',round(sp_score_zero,4))\n",
    "end = time.time()\n",
    "print('Run time :\\t',round(end-start, 2),' seconds')"
   ]
  },
  {
   "cell_type": "code",
   "execution_count": 277,
   "metadata": {},
   "outputs": [
    {
     "name": "stdout",
     "output_type": "stream",
     "text": [
      "Total samples considered :\t\t 101250\n",
      "Count of labelled points at  10 % :\t 91125\n",
      "Count of unlabelled points at  10 % :\t 10125\n",
      "\n",
      "Accuracy with 10 % unlabelled data\t 0.6002\n",
      "Run time :\t 501.21  seconds\n",
      "\n",
      "Metrics:\n",
      "\n",
      "Classifcation report at  10 % :\n",
      "\n",
      "              precision    recall  f1-score   support\n",
      "\n",
      "           0       1.00      0.90      0.95     10125\n",
      "           1       0.00      0.00      0.00         0\n",
      "           2       0.00      0.00      0.00         0\n",
      "\n",
      "    accuracy                           0.90     10125\n",
      "   macro avg       0.33      0.30      0.32     10125\n",
      "weighted avg       1.00      0.90      0.95     10125\n",
      "\n",
      "Confusion matrix at  10 % :\n",
      " [[9105  291  729]\n",
      " [   0    0    0]\n",
      " [   0    0    0]]\n"
     ]
    }
   ],
   "source": [
    "# 90% labelled data\n",
    "start = time.time()\n",
    "ml,unlabeled_set_10 = maskfunc(Y, 10)\n",
    "label_spread_model.fit(X, ml)\n",
    "sp_score_ten = label_spread_model.score(X, ml)\n",
    "print('\\nAccuracy with 10 % unlabelled data\\t',round(sp_score_ten,4))\n",
    "end = time.time()\n",
    "print('Run time :\\t',round(end-start, 2),' seconds')\n",
    "print('\\nMetrics:\\n')\n",
    "report_conf_spread(unlabeled_set_10,10)"
   ]
  },
  {
   "cell_type": "code",
   "execution_count": 23,
   "metadata": {},
   "outputs": [
    {
     "name": "stdout",
     "output_type": "stream",
     "text": [
      "Total samples considered :\t\t 101302\n",
      "Count of labelled points at  20 % :\t81041\n",
      "Count of unlabelled points at  20 % :\t20261\n",
      "\n",
      "Accuracy with 20 % unlabelled data\t 0.5218\n",
      "Run time :\t349.12  seconds\n",
      "\n",
      "Metrics:\n",
      "\n",
      "Classifcation report at  20 % :\n",
      "\n",
      "              precision    recall  f1-score   support\n",
      "\n",
      "           0       1.00      0.81      0.90     20261\n",
      "           1       0.00      0.00      0.00         0\n",
      "           2       0.00      0.00      0.00         0\n",
      "\n",
      "    accuracy                           0.81     20261\n",
      "   macro avg       0.33      0.27      0.30     20261\n",
      "weighted avg       1.00      0.81      0.90     20261\n",
      "\n",
      "Confusion matrix at  20 % :\n",
      " [[16482  1122  2657]\n",
      " [    0     0     0]\n",
      " [    0     0     0]]\n"
     ]
    }
   ],
   "source": [
    "import warnings\n",
    "warnings.filterwarnings('ignore')\n",
    "\n",
    "# 80% labelled data\n",
    "start = time.time()\n",
    "ml,unlabeled_set_20 = maskfunc(Y, 20)\n",
    "label_spread_model.fit(X, ml)\n",
    "sp_score_twenty = label_spread_model.score(X, ml)\n",
    "print('\\nAccuracy with 20 % unlabelled data\\t',round(sp_score_twenty,4))\n",
    "end = time.time()\n",
    "print('Run time :\\t',round(end-start, 2),' seconds')\n",
    "print('\\nMetrics:\\n')\n",
    "report_conf_spread(unlabeled_set_20,20)"
   ]
  },
  {
   "cell_type": "code",
   "execution_count": 24,
   "metadata": {},
   "outputs": [
    {
     "name": "stdout",
     "output_type": "stream",
     "text": [
      "Total samples considered :\t\t 101302\n",
      "Count of labelled points at  50 % :\t 50651\n",
      "Count of unlabelled points at  50 % :\t 50651\n",
      "\n",
      "Accuracy with 50 % unlabelled data\t 0.3342\n",
      "Run time :\t 363.44  seconds\n",
      "\n",
      "Metrics:\n",
      "\n",
      "Classifcation report at  50 % :\n",
      "\n",
      "              precision    recall  f1-score   support\n",
      "\n",
      "           0       0.94      0.55      0.69     34839\n",
      "           1       0.14      0.38      0.20      4191\n",
      "           2       0.36      0.58      0.45     11621\n",
      "\n",
      "    accuracy                           0.54     50651\n",
      "   macro avg       0.48      0.50      0.45     50651\n",
      "weighted avg       0.74      0.54      0.60     50651\n",
      "\n",
      "Confusion matrix at  50 % :\n",
      " [[19158  6127  9554]\n",
      " [  370  1612  2209]\n",
      " [  872  4054  6695]]\n"
     ]
    }
   ],
   "source": [
    "# 50% labelled data\n",
    "start = time.time()\n",
    "ml,unlabeled_set_50 = maskfunc(Y, 50)\n",
    "label_spread_model.fit(X, ml)\n",
    "sp_score_fifty = label_spread_model.score(X, ml)\n",
    "print('\\nAccuracy with 50 % unlabelled data\\t',round(sp_score_fifty,4))\n",
    "end = time.time()\n",
    "print('Run time :\\t',round(end-start, 2),' seconds')\n",
    "print('\\nMetrics:\\n')\n",
    "report_conf_spread(unlabeled_set_50,50)"
   ]
  },
  {
   "cell_type": "code",
   "execution_count": 25,
   "metadata": {},
   "outputs": [
    {
     "name": "stdout",
     "output_type": "stream",
     "text": [
      "Total samples considered :\t\t 101302\n",
      "Count of labelled points at  90 % :\t 10130\n",
      "Count of unlabelled points at  90 % :\t 91172\n",
      "\n",
      "Accuracy with 90 % unlabelled data\t 0.0785\n",
      "Run time :\t 397.12  seconds\n",
      "\n",
      "Metrics:\n",
      "\n",
      "Classifcation report at  90 % :\n",
      "\n",
      "              precision    recall  f1-score   support\n",
      "\n",
      "           0       0.65      0.58      0.61     38644\n",
      "           1       0.25      0.31      0.28     18066\n",
      "           2       0.49      0.49      0.49     34462\n",
      "\n",
      "    accuracy                           0.49     91172\n",
      "   macro avg       0.46      0.46      0.46     91172\n",
      "weighted avg       0.51      0.49      0.50     91172\n",
      "\n",
      "Confusion matrix at  90 % :\n",
      " [[22257  6658  9729]\n",
      " [ 4519  5617  7930]\n",
      " [ 7713  9870 16879]]\n"
     ]
    }
   ],
   "source": [
    "# 90% labelled data\n",
    "start = time.time()\n",
    "ml,unlabeled_set_90 = maskfunc(Y, 90)\n",
    "label_spread_model.fit(X, ml)\n",
    "sp_score_ninety = label_spread_model.score(X, ml)\n",
    "print('\\nAccuracy with 90 % unlabelled data\\t',round(sp_score_ninety,4))\n",
    "end = time.time()\n",
    "print('Run time :\\t',round(end-start, 2),' seconds')\n",
    "print('\\nMetrics:\\n')\n",
    "report_conf_spread(unlabeled_set_90,90)"
   ]
  },
  {
   "cell_type": "code",
   "execution_count": null,
   "metadata": {},
   "outputs": [
    {
     "name": "stdout",
     "output_type": "stream",
     "text": [
      "Total samples considered :\t\t 101302\n",
      "Count of labelled points at  95 % :\t 5065\n",
      "Count of unlabelled points at  95 % :\t 96237\n"
     ]
    }
   ],
   "source": [
    "# 95% labelled data\n",
    "start = time.time()\n",
    "ml,unlabeled_set_95 = maskfunc(Y, 95)\n",
    "label_spread_model.fit(X, ml)\n",
    "sp_score_ninetyfive = label_spread_model.score(X, ml)\n",
    "print('\\nAccuracy with 95 % unlabelled data\\t',round(sp_score_ninetyfive,2))\n",
    "end = time.time()\n",
    "print('Run time :\\t',round(end-start, 2),' seconds')\n",
    "print('\\nMetrics:\\n')\n",
    "report_conf_spread(unlabeled_set_95,95)"
   ]
  },
  {
   "cell_type": "markdown",
   "metadata": {},
   "source": [
    "# semisupervised learning - particle competition and cooperation"
   ]
  },
  {
   "cell_type": "code",
   "execution_count": null,
   "metadata": {},
   "outputs": [],
   "source": []
  }
 ],
 "metadata": {
  "kernelspec": {
   "display_name": "Python 3",
   "language": "python",
   "name": "python3"
  },
  "language_info": {
   "codemirror_mode": {
    "name": "ipython",
    "version": 3
   },
   "file_extension": ".py",
   "mimetype": "text/x-python",
   "name": "python",
   "nbconvert_exporter": "python",
   "pygments_lexer": "ipython3",
   "version": "3.8.3"
  }
 },
 "nbformat": 4,
 "nbformat_minor": 4
}
