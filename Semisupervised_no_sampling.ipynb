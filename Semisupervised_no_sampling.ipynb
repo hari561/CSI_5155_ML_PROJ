{
 "cells": [
  {
   "cell_type": "markdown",
   "metadata": {},
   "source": [
    "# Semi-supervised - label propagation"
   ]
  },
  {
   "cell_type": "code",
   "execution_count": 3,
   "metadata": {},
   "outputs": [
    {
     "name": "stdout",
     "output_type": "stream",
     "text": [
      "(67836, 22)\n"
     ]
    }
   ],
   "source": [
    "import pandas as pd\n",
    "\n",
    "from sklearn.preprocessing import LabelEncoder\n",
    "from sklearn.model_selection import KFold\n",
    "from sklearn.neighbors import KNeighborsClassifier\n",
    "from sklearn.model_selection import cross_val_score\n",
    "from sklearn.naive_bayes import GaussianNB\n",
    "import statistics\n",
    "from sklearn.multiclass import OneVsRestClassifier\n",
    "import time\n",
    "\n",
    "data=pd.read_csv(r'C:\\Users\\ADMIN\\Desktop\\new_df.csv')\n",
    "df = pd.DataFrame(data)\n",
    "test_df = df\n",
    "\n",
    "print(df.shape)\n"
   ]
  },
  {
   "cell_type": "code",
   "execution_count": 4,
   "metadata": {},
   "outputs": [
    {
     "name": "stdout",
     "output_type": "stream",
     "text": [
      "(67836,)\n",
      "0    1\n",
      "1    2\n",
      "2    2\n",
      "3    2\n",
      "4    1\n",
      "Name: readmitted, dtype: int32\n"
     ]
    }
   ],
   "source": [
    "label_encoder = LabelEncoder()\n",
    "df['readmitted']= label_encoder.fit_transform(df['readmitted']) \n",
    "print(df['readmitted'].shape)\n",
    "print(df['readmitted'].head(5))"
   ]
  },
  {
   "cell_type": "code",
   "execution_count": 5,
   "metadata": {},
   "outputs": [
    {
     "name": "stdout",
     "output_type": "stream",
     "text": [
      "target :  (67836,)\n",
      "features :  (67836, 21)\n"
     ]
    }
   ],
   "source": [
    "y = data['readmitted']\n",
    "x = data.drop('readmitted', axis=1)\n",
    "print('target : ', y.shape)\n",
    "print('features : ',x.shape)"
   ]
  },
  {
   "cell_type": "code",
   "execution_count": 6,
   "metadata": {},
   "outputs": [
    {
     "name": "stdout",
     "output_type": "stream",
     "text": [
      "(67836, 36)\n"
     ]
    }
   ],
   "source": [
    "x = pd.get_dummies(x,drop_first=True)\n",
    "print(x.shape)\n",
    "\n",
    "\n"
   ]
  },
  {
   "cell_type": "code",
   "execution_count": 7,
   "metadata": {},
   "outputs": [],
   "source": [
    "# user-defined unlabelling function\n",
    "\n",
    "import random\n",
    "\n",
    "def maskfunc(true_target, percentage):\n",
    "    if (percentage >=0 and percentage <= 100):\n",
    "       \n",
    "        n_total_samples = len(true_target)\n",
    "        unlabel = (100-percentage)\n",
    "        n_labeled_points = int((unlabel * n_total_samples)/100)\n",
    "        indices = np.arange(n_total_samples)\n",
    "        unlabeled_set = indices[n_labeled_points:]\n",
    "        \n",
    "        labels = true_target.copy()\n",
    "        labels[unlabeled_set] = -1\n",
    "        \n",
    "        print('Total samples considered :\\t\\t',n_total_samples)\n",
    "        print('Count of labelled points at ',percentage,'% :\\t',n_labeled_points)\n",
    "        print('Count of unlabelled points at ',percentage,'% :\\t',(n_total_samples - n_labeled_points))\n",
    "        return labels,unlabeled_set\n",
    "    else: \n",
    "        return 'Percentage not in range of (0,100)'\n",
    "    \n"
   ]
  },
  {
   "cell_type": "code",
   "execution_count": 10,
   "metadata": {},
   "outputs": [],
   "source": [
    "# classification report and confusion matrix function\n",
    "from sklearn.metrics import roc_curve,auc,precision_recall_curve,confusion_matrix,accuracy_score,classification_report\n",
    "\n",
    "def report_conf(unlabeled_set_value, percen):\n",
    "    unlabeled_set = unlabeled_set_value\n",
    "    predicted_labels = label_prop_model.transduction_[unlabeled_set]\n",
    "    true_labels = Y[unlabeled_set]\n",
    "    \n",
    "    cm = confusion_matrix(true_labels, predicted_labels, labels=label_prop_model.classes_)\n",
    "    print('Classifcation report at ',percen,'% :\\n')\n",
    "    print(classification_report(true_labels, predicted_labels))\n",
    "\n",
    "    print('Confusion matrix at ',percen,'% :\\n',cm)"
   ]
  },
  {
   "cell_type": "code",
   "execution_count": 1,
   "metadata": {},
   "outputs": [
    {
     "name": "stdout",
     "output_type": "stream",
     "text": [
      "Total samples considered : 67836\n",
      "Count of labelled points at  0 % : 67836\n",
      "Count of unlabelled points at  0 % : 0\n",
      "\n",
      "Accuracy with 0 % unlabelled data 0.6457\n"
     ]
    }
   ],
   "source": [
    "import numpy as np\n",
    "import warnings\n",
    "warnings.filterwarnings('ignore')\n",
    "\n",
    "from sklearn import datasets\n",
    "from sklearn.semi_supervised import LabelPropagation\n",
    "\n",
    "score = {}\n",
    "#RUN THE MODEL\n",
    "start = time.time()\n",
    "label_prop_model = LabelPropagation(kernel='knn', n_neighbors=8, max_iter=100, gamma=20,n_jobs=None)\n",
    "\n",
    "# 100% labelled data\n",
    "ml,unlabeled_set_0 = maskfunc(y, 0)\n",
    "label_prop_model.fit(x, ml)\n",
    "score_zero = label_prop_model.score(x, ml)\n",
    "print('Accuracy with 0 % unlabelled data\\t',round(score_zero,4))\n",
    "end = time.time()\n",
    "print('\\nRun time  :\\t',round(end-start, 2),' seconds')\n",
    "\n"
   ]
  },
  {
   "cell_type": "code",
   "execution_count": 83,
   "metadata": {},
   "outputs": [
    {
     "name": "stdout",
     "output_type": "stream",
     "text": [
      "Total samples considered :\t\t 67836\n",
      "Count of labelled points at  10 % :\t 61052\n",
      "Count of unlabelled points at  10 % :\t 6784\n",
      "Accuracy with 10 % unlabelled data\t 0.58\n",
      "\n",
      "Metrics:\n",
      "\n",
      "Classifcation report at 0% :\n",
      "\n",
      "              precision    recall  f1-score   support\n",
      "\n",
      "           0       0.07      0.02      0.04       603\n",
      "           1       0.19      0.32      0.24      1238\n",
      "           2       0.73      0.67      0.70      4943\n",
      "\n",
      "    accuracy                           0.55      6784\n",
      "   macro avg       0.33      0.34      0.32      6784\n",
      "weighted avg       0.57      0.55      0.56      6784\n",
      "\n",
      "Confusion matrix at 0% :\n",
      " [[  15  168  420]\n",
      " [  42  390  806]\n",
      " [ 166 1463 3314]]\n"
     ]
    }
   ],
   "source": [
    "# 90% labelled data\n",
    "start = time.time()\n",
    "ml,unlabeled_set_10 = maskfunc(y, 10)\n",
    "label_prop_model.fit(x, ml)\n",
    "score_ten = label_prop_model.score(x, ml)\n",
    "print('\\nAccuracy with 10 % unlabelled data\\t',round(score_ten,2))\n",
    "end = time.time()\n",
    "print('\\nRun time  :\\t',round(end-start, 2),' seconds')\n",
    "print('\\nMetrics:\\n')\n",
    "report_conf(unlabeled_set_10,10)\n"
   ]
  },
  {
   "cell_type": "code",
   "execution_count": 84,
   "metadata": {},
   "outputs": [
    {
     "name": "stdout",
     "output_type": "stream",
     "text": [
      "Total samples considered :\t\t 67836\n",
      "Count of labelled points at  20 % :\t 54268\n",
      "Count of unlabelled points at  20 % :\t 13568\n",
      "Accuracy with 20 % unlabelled data\t 0.5\n",
      "Classifcation report at  20 % :\n",
      "\n",
      "              precision    recall  f1-score   support\n",
      "\n",
      "           0       0.09      0.16      0.12      1115\n",
      "           1       0.23      0.30      0.26      3029\n",
      "           2       0.69      0.56      0.62      9424\n",
      "\n",
      "    accuracy                           0.47     13568\n",
      "   macro avg       0.34      0.34      0.33     13568\n",
      "weighted avg       0.54      0.47      0.49     13568\n",
      "\n",
      "Confusion matrix at  20 % :\n",
      " [[ 180  294  641]\n",
      " [ 439  904 1686]\n",
      " [1386 2805 5233]]\n"
     ]
    }
   ],
   "source": [
    "# 80% labelled data\n",
    "start = time.time()\n",
    "ml,unlabeled_set_20 = maskfunc(y, 20)\n",
    "label_prop_model.fit(x, ml)\n",
    "score_twenty = label_prop_model.score(x, ml)\n",
    "print('\\nAccuracy with 20 % unlabelled data\\t',round(score_twenty,2))\n",
    "end = time.time()\n",
    "print('\\nRun time  :\\t',round(end-start, 2),' seconds')\n",
    "print('\\nMetrics:\\n')\n",
    "report_conf(unlabeled_set_20,20)"
   ]
  },
  {
   "cell_type": "code",
   "execution_count": 85,
   "metadata": {},
   "outputs": [
    {
     "name": "stdout",
     "output_type": "stream",
     "text": [
      "Total samples considered :\t\t 67836\n",
      "Count of labelled points at  50 % :\t 33918\n",
      "Count of unlabelled points at  50 % :\t 33918\n",
      "Accuracy with 50 % unlabelled data\t 0.19\n",
      "\n",
      "Metrics:\n",
      "\n",
      "Classifcation report at  50 % :\n",
      "\n",
      "              precision    recall  f1-score   support\n",
      "\n",
      "           0       0.09      0.78      0.15      2858\n",
      "           1       0.31      0.08      0.13     10313\n",
      "           2       0.60      0.14      0.23     20747\n",
      "\n",
      "    accuracy                           0.18     33918\n",
      "   macro avg       0.33      0.34      0.17     33918\n",
      "weighted avg       0.47      0.18      0.20     33918\n",
      "\n",
      "Confusion matrix at  50 % :\n",
      " [[ 2229   222   407]\n",
      " [ 7852   866  1595]\n",
      " [16020  1723  3004]]\n"
     ]
    }
   ],
   "source": [
    "# 50% labelled data\n",
    "start = time.time()\n",
    "ml,unlabeled_set_50 = maskfunc(y, 50)\n",
    "label_prop_model.fit(x, ml)\n",
    "score_fifty = label_prop_model.score(x, ml)\n",
    "print('\\nAccuracy with 50 % unlabelled data\\t',round(score_fifty,2))\n",
    "end = time.time()\n",
    "print('\\nRun time  :\\t',round(end-start, 2),' seconds')\n",
    "print('\\nMetrics:\\n')\n",
    "report_conf(unlabeled_set_50,50)\n"
   ]
  },
  {
   "cell_type": "code",
   "execution_count": 86,
   "metadata": {},
   "outputs": [
    {
     "name": "stdout",
     "output_type": "stream",
     "text": [
      "Total samples considered :\t\t 67836\n",
      "Count of labelled points at  90 % :\t 6783\n",
      "Count of unlabelled points at  90 % :\t 61053\n",
      "\n",
      "Accuracy with 90 % unlabelled data\t 0.02\n",
      "\n",
      "Metrics:\n",
      "\n",
      "Classifcation report at  90 % :\n",
      "\n",
      "              precision    recall  f1-score   support\n",
      "\n",
      "           0       0.09      0.97      0.16      5485\n",
      "           1       0.29      0.01      0.02     19173\n",
      "           2       0.57      0.02      0.03     36395\n",
      "\n",
      "    accuracy                           0.10     61053\n",
      "   macro avg       0.32      0.33      0.07     61053\n",
      "weighted avg       0.44      0.10      0.04     61053\n",
      "\n",
      "Confusion matrix at  90 % :\n",
      " [[ 5297    81   107]\n",
      " [18635   204   334]\n",
      " [35392   419   584]]\n"
     ]
    }
   ],
   "source": [
    "\n",
    "# 10% labelled data\n",
    "start = time.time()\n",
    "ml,unlabeled_set_90 = maskfunc(y, 90)\n",
    "label_prop_model.fit(x, ml)\n",
    "score_ninety = label_prop_model.score(x, ml)\n",
    "print('\\nAccuracy with 90 % unlabelled data\\t',round(score_ninety,4))\n",
    "end = time.time()\n",
    "print('\\nRun time  :\\t',round(end-start, 2),' seconds')\n",
    "print('\\nMetrics:\\n')\n",
    "report_conf(unlabeled_set_90,90)"
   ]
  },
  {
   "cell_type": "code",
   "execution_count": 87,
   "metadata": {},
   "outputs": [
    {
     "name": "stdout",
     "output_type": "stream",
     "text": [
      "Total samples considered :\t\t 67836\n",
      "Count of labelled points at  95 % :\t 3391\n",
      "Count of unlabelled points at  95 % :\t 64445\n",
      "\n",
      "Accuracy with 95 % unlabelled data\t 0.0072\n",
      "\n",
      "Metrics:\n",
      "\n",
      "Classifcation report at  95 % :\n",
      "\n",
      "              precision    recall  f1-score   support\n",
      "\n",
      "           0       0.09      0.99      0.16      5805\n",
      "           1       0.33      0.00      0.01     20408\n",
      "           2       0.57      0.01      0.01     38232\n",
      "\n",
      "    accuracy                           0.09     64445\n",
      "   macro avg       0.33      0.33      0.06     64445\n",
      "weighted avg       0.45      0.09      0.03     64445\n",
      "\n",
      "Confusion matrix at  95 % :\n",
      " [[ 5729    35    41]\n",
      " [20143   101   164]\n",
      " [37793   166   273]]\n"
     ]
    }
   ],
   "source": [
    "\n",
    "# 5% labelled data\n",
    "start = time.time()\n",
    "ml,unlabeled_set_95 = maskfunc(y, 95)\n",
    "label_prop_model.fit(x, ml)\n",
    "score_ninefive = label_prop_model.score(x, ml)\n",
    "print('\\nAccuracy with 95 % unlabelled data\\t',round(score_ninefive,2))\n",
    "end = time.time()\n",
    "print('\\nRun time  :\\t',round(end-start, 2),' seconds')\n",
    "print('\\nMetrics:\\n')\n",
    "report_conf(unlabeled_set_95,95)"
   ]
  },
  {
   "cell_type": "markdown",
   "metadata": {},
   "source": [
    "# Semisupervised learning - label spreading"
   ]
  },
  {
   "cell_type": "code",
   "execution_count": 98,
   "metadata": {},
   "outputs": [],
   "source": [
    "# classification report and confusion matrix function\n",
    "from sklearn.metrics import roc_curve,auc,precision_recall_curve,confusion_matrix,accuracy_score,classification_report\n",
    "import time\n",
    "\n",
    "def report_conf_spread(unlabeled_set_value, percen):\n",
    "    unlabeled_set = unlabeled_set_value\n",
    "    predicted_labels = label_spread_model.transduction_[unlabeled_set]\n",
    "    true_labels = y[unlabeled_set]\n",
    "    \n",
    "    cm = confusion_matrix(true_labels, predicted_labels, labels=label_prop_model.classes_)\n",
    "    print('Classifcation report at ',percen,'% :\\n')\n",
    "    print(classification_report(true_labels, predicted_labels))\n",
    "\n",
    "    print('Confusion matrix at ',percen,'% :\\n',cm)"
   ]
  },
  {
   "cell_type": "code",
   "execution_count": 99,
   "metadata": {},
   "outputs": [],
   "source": [
    "from sklearn.semi_supervised import LabelSpreading\n",
    "\n",
    "label_spread_model = LabelSpreading(kernel='knn',n_neighbors=8)\n",
    "\n"
   ]
  },
  {
   "cell_type": "code",
   "execution_count": 100,
   "metadata": {},
   "outputs": [
    {
     "name": "stdout",
     "output_type": "stream",
     "text": [
      "\n",
      "Accuracy with 0 % unlabelled data\t 0.64\n",
      "\n",
      "Run time  :\t 250.93  seconds\n"
     ]
    }
   ],
   "source": [
    "# 100% labelled data\n",
    "start = time.time()\n",
    "label_spread_model.fit(x, y)\n",
    "sp_score_zero = label_spread_model.score(x, y)\n",
    "print('\\nAccuracy with 0 % unlabelled data\\t',round(sp_score_zero,2))\n",
    "end = time.time()\n",
    "print('\\nRun time  :\\t',round(end-start, 2),' seconds')"
   ]
  },
  {
   "cell_type": "code",
   "execution_count": 101,
   "metadata": {},
   "outputs": [
    {
     "name": "stdout",
     "output_type": "stream",
     "text": [
      "Total samples considered :\t\t 67836\n",
      "Count of labelled points at  10 % :\t 61052\n",
      "Count of unlabelled points at  10 % :\t 6784\n",
      "\n",
      "Accuracy with 10 % unlabelled data\t 0.58\n",
      "\n",
      "Run time  :\t 246.01  seconds\n",
      "\n",
      "Metrics:\n",
      "\n",
      "Classifcation report at  10 % :\n",
      "\n",
      "              precision    recall  f1-score   support\n",
      "\n",
      "           0       0.09      0.03      0.05       383\n",
      "           1       0.23      0.34      0.27      1279\n",
      "           2       0.78      0.71      0.74      5122\n",
      "\n",
      "    accuracy                           0.60      6784\n",
      "   macro avg       0.36      0.36      0.35      6784\n",
      "weighted avg       0.63      0.60      0.62      6784\n",
      "\n",
      "Confusion matrix at  10 % :\n",
      " [[  12  123  248]\n",
      " [  33  440  806]\n",
      " [  95 1377 3650]]\n"
     ]
    }
   ],
   "source": [
    "# 90% labelled data\n",
    "start = time.time()\n",
    "ml,unlabeled_set_10 = maskfunc(y, 10)\n",
    "label_spread_model.fit(x, ml)\n",
    "sp_score_ten = label_spread_model.score(x, ml)\n",
    "print('\\nAccuracy with 10 % unlabelled data\\t',round(sp_score_ten,2))\n",
    "end = time.time()\n",
    "print('\\nRun time  :\\t',round(end-start, 2),' seconds')\n",
    "print('\\nMetrics:\\n')\n",
    "report_conf_spread(unlabeled_set_10,10)"
   ]
  },
  {
   "cell_type": "code",
   "execution_count": 102,
   "metadata": {},
   "outputs": [
    {
     "name": "stdout",
     "output_type": "stream",
     "text": [
      "Total samples considered :\t\t 67836\n",
      "Count of labelled points at  20 % :\t 54268\n",
      "Count of unlabelled points at  20 % :\t 13568\n",
      "\n",
      "Accuracy with 20 % unlabelled data\t 0.52\n",
      "\n",
      "Run time  :\t 254.88  seconds\n",
      "\n",
      "Metrics:\n",
      "\n",
      "Classifcation report at  20 % :\n",
      "\n",
      "              precision    recall  f1-score   support\n",
      "\n",
      "           0       0.08      0.04      0.05       922\n",
      "           1       0.26      0.38      0.30      3094\n",
      "           2       0.72      0.65      0.68      9552\n",
      "\n",
      "    accuracy                           0.54     13568\n",
      "   macro avg       0.35      0.35      0.35     13568\n",
      "weighted avg       0.57      0.54      0.55     13568\n",
      "\n",
      "Confusion matrix at  20 % :\n",
      " [[  37  322  563]\n",
      " [ 108 1166 1820]\n",
      " [ 315 3064 6173]]\n"
     ]
    }
   ],
   "source": [
    "# 80% labelled data\n",
    "start = time.time()\n",
    "ml,unlabeled_set_20 = maskfunc(y, 20)\n",
    "label_spread_model.fit(x, ml)\n",
    "sp_score_twenty = label_spread_model.score(x, ml)\n",
    "print('\\nAccuracy with 20 % unlabelled data\\t',round(sp_score_twenty,2))\n",
    "end = time.time()\n",
    "print('\\nRun time  :\\t',round(end-start, 2),' seconds')\n",
    "print('\\nMetrics:\\n')\n",
    "report_conf_spread(unlabeled_set_20,20)"
   ]
  },
  {
   "cell_type": "code",
   "execution_count": 103,
   "metadata": {},
   "outputs": [
    {
     "name": "stdout",
     "output_type": "stream",
     "text": [
      "Total samples considered :\t\t 67836\n",
      "Count of labelled points at  50 % :\t 33918\n",
      "Count of unlabelled points at  50 % :\t 33918\n",
      "\n",
      "Accuracy with 50 % unlabelled data\t 0.34\n",
      "\n",
      "Run time  :\t 257.79  seconds\n",
      "\n",
      "Metrics:\n",
      "\n",
      "Classifcation report at  50 % :\n",
      "\n",
      "              precision    recall  f1-score   support\n",
      "\n",
      "           0       0.09      0.10      0.09      2738\n",
      "           1       0.33      0.38      0.35     10374\n",
      "           2       0.63      0.58      0.61     20806\n",
      "\n",
      "    accuracy                           0.48     33918\n",
      "   macro avg       0.35      0.35      0.35     33918\n",
      "weighted avg       0.50      0.48      0.49     33918\n",
      "\n",
      "Confusion matrix at  50 % :\n",
      " [[  268   982  1488]\n",
      " [  980  3908  5486]\n",
      " [ 1765  6911 12130]]\n"
     ]
    }
   ],
   "source": [
    "# 50% labelled data\n",
    "start = time.time()\n",
    "ml,unlabeled_set_50 = maskfunc(y, 50)\n",
    "label_spread_model.fit(x, ml)\n",
    "sp_score_fifty = label_spread_model.score(x, ml)\n",
    "print('\\nAccuracy with 50 % unlabelled data\\t',round(sp_score_fifty,2))\n",
    "end = time.time()\n",
    "print('\\nRun time  :\\t',round(end-start, 2),' seconds')\n",
    "print('\\nMetrics:\\n')\n",
    "report_conf_spread(unlabeled_set_50,50)"
   ]
  },
  {
   "cell_type": "code",
   "execution_count": null,
   "metadata": {},
   "outputs": [
    {
     "name": "stdout",
     "output_type": "stream",
     "text": [
      "Total samples considered :\t\t 67836\n",
      "Count of labelled points at  90 % :\t 6783\n",
      "Count of unlabelled points at  90 % :\t 61053\n"
     ]
    }
   ],
   "source": [
    "# 90% labelled data\n",
    "start = time.time()\n",
    "ml,unlabeled_set_90 = maskfunc(y, 90)\n",
    "label_spread_model.fit(x, ml)\n",
    "sp_score_ninety = label_spread_model.score(x, ml)\n",
    "print('\\nAccuracy with 90 % unlabelled data\\t',round(sp_score_ninety,2))\n",
    "end = time.time()\n",
    "print('\\nRun time  :\\t',round(end-start, 2),' seconds')\n",
    "print('\\nMetrics:\\n')\n",
    "report_conf_spread(unlabeled_set_90,90)"
   ]
  },
  {
   "cell_type": "code",
   "execution_count": 96,
   "metadata": {},
   "outputs": [
    {
     "name": "stdout",
     "output_type": "stream",
     "text": [
      "Total samples considered :\t\t 67836\n",
      "Count of labelled points at  95 % :\t 3391\n",
      "Count of unlabelled points at  95 % :\t 64445\n",
      "\n",
      "Accuracy with 90 % unlabelled data\t 0.04\n",
      "\n",
      "Metrics:\n",
      "\n",
      "Classifcation report at  95 % :\n",
      "\n",
      "              precision    recall  f1-score   support\n",
      "\n",
      "           0       0.09      0.23      0.13      5799\n",
      "           1       0.32      0.33      0.33     20410\n",
      "           2       0.61      0.46      0.53     38236\n",
      "\n",
      "    accuracy                           0.40     64445\n",
      "   macro avg       0.34      0.34      0.33     64445\n",
      "weighted avg       0.47      0.40      0.43     64445\n",
      "\n",
      "Confusion matrix at  95 % :\n",
      " [[ 1332  1961  2506]\n",
      " [ 4842  6834  8734]\n",
      " [ 8238 12236 17762]]\n"
     ]
    }
   ],
   "source": [
    "# 95% labelled data\n",
    "start = time.time()\n",
    "ml,unlabeled_set_95 = maskfunc(y, 95)\n",
    "label_spread_model.fit(x, ml)\n",
    "sp_score_ninetyfive = label_spread_model.score(x, ml)\n",
    "print('\\nAccuracy with 90 % unlabelled data\\t',round(sp_score_ninetyfive,2))\n",
    "end = time.time()\n",
    "print('\\nRun time  :\\t',round(end-start, 2),' seconds')\n",
    "print('\\nMetrics:\\n')\n",
    "report_conf_spread(unlabeled_set_95,95)"
   ]
  },
  {
   "cell_type": "markdown",
   "metadata": {},
   "source": [
    "# Semisupervised learning - particle competion and cooperation"
   ]
  },
  {
   "cell_type": "code",
   "execution_count": 59,
   "metadata": {},
   "outputs": [],
   "source": [
    "import numpy as np\n",
    "import random\n",
    "from sklearn.metrics import confusion_matrix\n",
    "from pypcc import ParticleCompetitionAndCooperation\n",
    "\n"
   ]
  },
  {
   "cell_type": "code",
   "execution_count": 67,
   "metadata": {},
   "outputs": [
    {
     "ename": "MemoryError",
     "evalue": "Unable to allocate 17.1 GiB for an array with shape (67836, 67836) and data type int32",
     "output_type": "error",
     "traceback": [
      "\u001b[1;31m---------------------------------------------------------------------------\u001b[0m",
      "\u001b[1;31mMemoryError\u001b[0m                               Traceback (most recent call last)",
      "\u001b[1;32m<ipython-input-67-2b3a89770ad7>\u001b[0m in \u001b[0;36m<module>\u001b[1;34m\u001b[0m\n\u001b[1;32m----> 1\u001b[1;33m \u001b[0mmodel\u001b[0m\u001b[1;33m.\u001b[0m\u001b[0mfit\u001b[0m\u001b[1;33m(\u001b[0m\u001b[0mx\u001b[0m\u001b[1;33m,\u001b[0m \u001b[0my\u001b[0m\u001b[1;33m)\u001b[0m\u001b[1;33m\u001b[0m\u001b[1;33m\u001b[0m\u001b[0m\n\u001b[0m\u001b[0;32m      2\u001b[0m \u001b[0mpred\u001b[0m \u001b[1;33m=\u001b[0m \u001b[0mnp\u001b[0m\u001b[1;33m.\u001b[0m\u001b[0marray\u001b[0m\u001b[1;33m(\u001b[0m\u001b[0mmodel\u001b[0m\u001b[1;33m.\u001b[0m\u001b[0mpredict\u001b[0m\u001b[1;33m(\u001b[0m\u001b[0mx\u001b[0m\u001b[1;33m)\u001b[0m\u001b[1;33m)\u001b[0m\u001b[1;33m\u001b[0m\u001b[1;33m\u001b[0m\u001b[0m\n\u001b[0;32m      3\u001b[0m \u001b[1;33m\u001b[0m\u001b[0m\n\u001b[0;32m      4\u001b[0m \u001b[1;31m#SEPARATE PREDICTED SAMPLES\u001b[0m\u001b[1;33m\u001b[0m\u001b[1;33m\u001b[0m\u001b[1;33m\u001b[0m\u001b[0m\n\u001b[0;32m      5\u001b[0m \u001b[0mlabels\u001b[0m \u001b[1;33m=\u001b[0m \u001b[0mnp\u001b[0m\u001b[1;33m.\u001b[0m\u001b[0marray\u001b[0m\u001b[1;33m(\u001b[0m\u001b[0mlabels\u001b[0m\u001b[1;33m[\u001b[0m\u001b[0my\u001b[0m \u001b[1;33m==\u001b[0m \u001b[1;33m-\u001b[0m\u001b[1;36m1\u001b[0m\u001b[1;33m]\u001b[0m\u001b[1;33m)\u001b[0m\u001b[1;33m.\u001b[0m\u001b[0mastype\u001b[0m\u001b[1;33m(\u001b[0m\u001b[0mint\u001b[0m\u001b[1;33m)\u001b[0m\u001b[1;33m\u001b[0m\u001b[1;33m\u001b[0m\u001b[0m\n",
      "\u001b[1;32mC:\\ProgramData\\Anaconda3\\lib\\site-packages\\pypcc\\model.py\u001b[0m in \u001b[0;36mfit\u001b[1;34m(self, data, labels)\u001b[0m\n\u001b[0;32m     33\u001b[0m         \u001b[0mself\u001b[0m\u001b[1;33m.\u001b[0m\u001b[0mparticles\u001b[0m \u001b[1;33m=\u001b[0m \u001b[0mself\u001b[0m\u001b[1;33m.\u001b[0m\u001b[0m__genParticles\u001b[0m\u001b[1;33m(\u001b[0m\u001b[1;33m)\u001b[0m\u001b[1;33m\u001b[0m\u001b[1;33m\u001b[0m\u001b[0m\n\u001b[0;32m     34\u001b[0m         \u001b[0mself\u001b[0m\u001b[1;33m.\u001b[0m\u001b[0mnodes\u001b[0m \u001b[1;33m=\u001b[0m \u001b[0mself\u001b[0m\u001b[1;33m.\u001b[0m\u001b[0m__genNodes\u001b[0m\u001b[1;33m(\u001b[0m\u001b[1;33m)\u001b[0m\u001b[1;33m\u001b[0m\u001b[1;33m\u001b[0m\u001b[0m\n\u001b[1;32m---> 35\u001b[1;33m         \u001b[0mself\u001b[0m\u001b[1;33m.\u001b[0m\u001b[0mdist_table\u001b[0m \u001b[1;33m=\u001b[0m \u001b[0mself\u001b[0m\u001b[1;33m.\u001b[0m\u001b[0m__genDistTable\u001b[0m\u001b[1;33m(\u001b[0m\u001b[1;33m)\u001b[0m\u001b[1;33m\u001b[0m\u001b[1;33m\u001b[0m\u001b[0m\n\u001b[0m\u001b[0;32m     36\u001b[0m \u001b[1;33m\u001b[0m\u001b[0m\n\u001b[0;32m     37\u001b[0m         \u001b[0mself\u001b[0m\u001b[1;33m.\u001b[0m\u001b[0mgraph\u001b[0m \u001b[1;33m=\u001b[0m \u001b[0mself\u001b[0m\u001b[1;33m.\u001b[0m\u001b[0m__genGraph\u001b[0m\u001b[1;33m(\u001b[0m\u001b[1;33m)\u001b[0m\u001b[1;33m\u001b[0m\u001b[1;33m\u001b[0m\u001b[0m\n",
      "\u001b[1;32mC:\\ProgramData\\Anaconda3\\lib\\site-packages\\pypcc\\model.py\u001b[0m in \u001b[0;36m__genDistTable\u001b[1;34m(self)\u001b[0m\n\u001b[0;32m    182\u001b[0m     \u001b[1;32mdef\u001b[0m \u001b[0m__genDistTable\u001b[0m\u001b[1;33m(\u001b[0m\u001b[0mself\u001b[0m\u001b[1;33m)\u001b[0m\u001b[1;33m:\u001b[0m\u001b[1;33m\u001b[0m\u001b[1;33m\u001b[0m\u001b[0m\n\u001b[0;32m    183\u001b[0m \u001b[1;33m\u001b[0m\u001b[0m\n\u001b[1;32m--> 184\u001b[1;33m         \u001b[0mdist_table\u001b[0m \u001b[1;33m=\u001b[0m \u001b[0mnp\u001b[0m\u001b[1;33m.\u001b[0m\u001b[0mfull\u001b[0m\u001b[1;33m(\u001b[0m\u001b[0mshape\u001b[0m\u001b[1;33m=\u001b[0m\u001b[1;33m(\u001b[0m\u001b[0mlen\u001b[0m\u001b[1;33m(\u001b[0m\u001b[0mself\u001b[0m\u001b[1;33m.\u001b[0m\u001b[0mdata\u001b[0m\u001b[1;33m)\u001b[0m\u001b[1;33m,\u001b[0m\u001b[0mlen\u001b[0m\u001b[1;33m(\u001b[0m\u001b[0mself\u001b[0m\u001b[1;33m.\u001b[0m\u001b[0mparticles\u001b[0m\u001b[1;33m)\u001b[0m\u001b[1;33m)\u001b[0m\u001b[1;33m,\u001b[0m \u001b[0mfill_value\u001b[0m\u001b[1;33m=\u001b[0m\u001b[0mlen\u001b[0m\u001b[1;33m(\u001b[0m\u001b[0mself\u001b[0m\u001b[1;33m.\u001b[0m\u001b[0mdata\u001b[0m\u001b[1;33m)\u001b[0m\u001b[1;33m-\u001b[0m\u001b[1;36m1\u001b[0m\u001b[1;33m,\u001b[0m\u001b[0mdtype\u001b[0m\u001b[1;33m=\u001b[0m\u001b[0mint\u001b[0m\u001b[1;33m)\u001b[0m\u001b[1;33m\u001b[0m\u001b[1;33m\u001b[0m\u001b[0m\n\u001b[0m\u001b[0;32m    185\u001b[0m \u001b[1;33m\u001b[0m\u001b[0m\n\u001b[0;32m    186\u001b[0m         \u001b[1;32mfor\u001b[0m \u001b[0mh\u001b[0m\u001b[1;33m,\u001b[0m\u001b[0mi\u001b[0m \u001b[1;32min\u001b[0m \u001b[0mzip\u001b[0m\u001b[1;33m(\u001b[0m\u001b[0mself\u001b[0m\u001b[1;33m.\u001b[0m\u001b[0mparticles\u001b[0m\u001b[1;33m[\u001b[0m\u001b[1;33m:\u001b[0m\u001b[1;33m,\u001b[0m\u001b[1;36m1\u001b[0m\u001b[1;33m]\u001b[0m\u001b[1;33m,\u001b[0m\u001b[0mrange\u001b[0m\u001b[1;33m(\u001b[0m\u001b[0mlen\u001b[0m\u001b[1;33m(\u001b[0m\u001b[0mself\u001b[0m\u001b[1;33m.\u001b[0m\u001b[0mparticles\u001b[0m\u001b[1;33m)\u001b[0m\u001b[1;33m)\u001b[0m\u001b[1;33m)\u001b[0m\u001b[1;33m:\u001b[0m\u001b[1;33m\u001b[0m\u001b[1;33m\u001b[0m\u001b[0m\n",
      "\u001b[1;32m~\\AppData\\Roaming\\Python\\Python38\\site-packages\\numpy\\core\\numeric.py\u001b[0m in \u001b[0;36mfull\u001b[1;34m(shape, fill_value, dtype, order)\u001b[0m\n\u001b[0;32m    312\u001b[0m     \u001b[1;32mif\u001b[0m \u001b[0mdtype\u001b[0m \u001b[1;32mis\u001b[0m \u001b[1;32mNone\u001b[0m\u001b[1;33m:\u001b[0m\u001b[1;33m\u001b[0m\u001b[1;33m\u001b[0m\u001b[0m\n\u001b[0;32m    313\u001b[0m         \u001b[0mdtype\u001b[0m \u001b[1;33m=\u001b[0m \u001b[0marray\u001b[0m\u001b[1;33m(\u001b[0m\u001b[0mfill_value\u001b[0m\u001b[1;33m)\u001b[0m\u001b[1;33m.\u001b[0m\u001b[0mdtype\u001b[0m\u001b[1;33m\u001b[0m\u001b[1;33m\u001b[0m\u001b[0m\n\u001b[1;32m--> 314\u001b[1;33m     \u001b[0ma\u001b[0m \u001b[1;33m=\u001b[0m \u001b[0mempty\u001b[0m\u001b[1;33m(\u001b[0m\u001b[0mshape\u001b[0m\u001b[1;33m,\u001b[0m \u001b[0mdtype\u001b[0m\u001b[1;33m,\u001b[0m \u001b[0morder\u001b[0m\u001b[1;33m)\u001b[0m\u001b[1;33m\u001b[0m\u001b[1;33m\u001b[0m\u001b[0m\n\u001b[0m\u001b[0;32m    315\u001b[0m     \u001b[0mmultiarray\u001b[0m\u001b[1;33m.\u001b[0m\u001b[0mcopyto\u001b[0m\u001b[1;33m(\u001b[0m\u001b[0ma\u001b[0m\u001b[1;33m,\u001b[0m \u001b[0mfill_value\u001b[0m\u001b[1;33m,\u001b[0m \u001b[0mcasting\u001b[0m\u001b[1;33m=\u001b[0m\u001b[1;34m'unsafe'\u001b[0m\u001b[1;33m)\u001b[0m\u001b[1;33m\u001b[0m\u001b[1;33m\u001b[0m\u001b[0m\n\u001b[0;32m    316\u001b[0m     \u001b[1;32mreturn\u001b[0m \u001b[0ma\u001b[0m\u001b[1;33m\u001b[0m\u001b[1;33m\u001b[0m\u001b[0m\n",
      "\u001b[1;31mMemoryError\u001b[0m: Unable to allocate 17.1 GiB for an array with shape (67836, 67836) and data type int32"
     ]
    }
   ],
   "source": [
    "#RUN THE MODEL\n",
    "model = ParticleCompetitionAndCooperation()\n",
    "\n",
    "model.fit(x, y)\n",
    "pred = np.array(model.predict(x))\n",
    "\n",
    "#SEPARATE PREDICTED SAMPLES\n",
    "labels = np.array(labels[y == -1]).astype(int)\n",
    "pred = pred[y == -1]\n",
    "\n",
    "#PRINT CONFUSION MATRIX\n",
    "print(confusion_matrix(labels, pred))"
   ]
  },
  {
   "cell_type": "markdown",
   "metadata": {},
   "source": [
    "# Semisupervised -  Naive bayes"
   ]
  },
  {
   "cell_type": "code",
   "execution_count": 4,
   "metadata": {},
   "outputs": [],
   "source": [
    "# classification report and confusion matrix function\n",
    "from sklearn.metrics import roc_curve,auc,precision_recall_curve,confusion_matrix,accuracy_score,classification_report\n",
    "import time\n",
    "\n",
    "def report_conf_nb(unlabeled_set_value, percen):\n",
    "    unlabeled_set = unlabeled_set_value\n",
    "    predicted_labels = GNBClassifier.transduction_[unlabeled_set]\n",
    "    true_labels = y[unlabeled_set]\n",
    "    \n",
    "    cm = confusion_matrix(true_labels, predicted_labels, labels=label_prop_model.classes_)\n",
    "    print('Classifcation report at ',percen,'% :\\n')\n",
    "    print(classification_report(true_labels, predicted_labels))\n",
    "\n",
    "    print('Confusion matrix at ',percen,'% :\\n',cm)"
   ]
  },
  {
   "cell_type": "code",
   "execution_count": 15,
   "metadata": {},
   "outputs": [
    {
     "name": "stdout",
     "output_type": "stream",
     "text": [
      "Total samples considered :\t\t 67836\n",
      "Count of labelled points at  10 % :\t 61052\n",
      "Count of unlabelled points at  10 % :\t 6784\n",
      "\n",
      "Accuracy with 10 % unlabelled data\t 0.44\n",
      "\n",
      "Metrics:\n",
      "\n",
      "\n",
      "Run time  :\t 0.42  seconds\n"
     ]
    }
   ],
   "source": [
    "from sklearn.naive_bayes import GaussianNB\n",
    "import time\n",
    "import numpy as np\n",
    "\n",
    "\n",
    "# 10% labelled data\n",
    "start = time.time()\n",
    "GNBClassifier= GaussianNB()\n",
    "ml,unlabeled_set_10 = maskfunc(y, 10)\n",
    "GNBClassifier.fit(x,ml)\n",
    "gnb_sp_score_10 = GNBClassifier.score(x, ml)\n",
    "print('\\nAccuracy with 10 % unlabelled data\\t',round(gnb_sp_score_10,2))\n",
    "end = time.time()\n",
    "print('\\nMetrics:\\n')\n",
    "print('\\nRun time  :\\t',round(end-start, 2),' seconds')\n",
    "#report_conf_nb(unlabeled_set_10,10)"
   ]
  },
  {
   "cell_type": "code",
   "execution_count": 16,
   "metadata": {},
   "outputs": [
    {
     "name": "stdout",
     "output_type": "stream",
     "text": [
      "Total samples considered :\t\t 67836\n",
      "Count of labelled points at  20 % :\t 54268\n",
      "Count of unlabelled points at  20 % :\t 13568\n",
      "\n",
      "Accuracy with 10 % unlabelled data\t 0.43\n",
      "\n",
      "Metrics:\n",
      "\n",
      "\n",
      "Run time  :\t 59.27  seconds\n"
     ]
    }
   ],
   "source": [
    "# 20% labelled data\n",
    "\n",
    "ml,unlabeled_set_20 = maskfunc(y, 20)\n",
    "GNBClassifier.fit(x,ml)\n",
    "gnb_sp_score_20 = GNBClassifier.score(x, ml)\n",
    "print('\\nAccuracy with 10 % unlabelled data\\t',round(gnb_sp_score_20,2))\n",
    "end = time.time()\n",
    "print('\\nMetrics:\\n')\n",
    "print('\\nRun time  :\\t',round(end-start, 2),' seconds')"
   ]
  },
  {
   "cell_type": "code",
   "execution_count": 17,
   "metadata": {},
   "outputs": [
    {
     "name": "stdout",
     "output_type": "stream",
     "text": [
      "Total samples considered :\t\t 67836\n",
      "Count of labelled points at  50 % :\t 33918\n",
      "Count of unlabelled points at  50 % :\t 33918\n",
      "\n",
      "Accuracy with 10 % unlabelled data\t 0.55\n",
      "\n",
      "Metrics:\n",
      "\n",
      "\n",
      "Run time  :\t 94.39  seconds\n"
     ]
    }
   ],
   "source": [
    "# 50% labelled data\n",
    "\n",
    "ml,unlabeled_set_50 = maskfunc(y, 50)\n",
    "GNBClassifier.fit(x,ml)\n",
    "gnb_sp_score_50 = GNBClassifier.score(x, ml)\n",
    "print('\\nAccuracy with 50 % unlabelled data\\t',round(gnb_sp_score_50,2))\n",
    "end = time.time()\n",
    "print('\\nMetrics:\\n')\n",
    "print('\\nRun time  :\\t',round(end-start, 2),' seconds')"
   ]
  },
  {
   "cell_type": "code",
   "execution_count": 18,
   "metadata": {},
   "outputs": [
    {
     "name": "stdout",
     "output_type": "stream",
     "text": [
      "Total samples considered :\t\t 67836\n",
      "Count of labelled points at  90 % :\t 6783\n",
      "Count of unlabelled points at  90 % :\t 61053\n",
      "\n",
      "Accuracy with 90 % unlabelled data\t 0.77\n",
      "\n",
      "Metrics:\n",
      "\n",
      "\n",
      "Run time  :\t 126.37  seconds\n"
     ]
    }
   ],
   "source": [
    "# 90% labelled data\n",
    "\n",
    "ml,unlabeled_set_90 = maskfunc(y, 90)\n",
    "GNBClassifier.fit(x,ml)\n",
    "gnb_sp_score_90 = GNBClassifier.score(x, ml)\n",
    "print('\\nAccuracy with 90 % unlabelled data\\t',round(gnb_sp_score_90,2))\n",
    "end = time.time()\n",
    "print('\\nMetrics:\\n')\n",
    "print('\\nRun time  :\\t',round(end-start, 2),' seconds')"
   ]
  },
  {
   "cell_type": "code",
   "execution_count": 19,
   "metadata": {},
   "outputs": [
    {
     "name": "stdout",
     "output_type": "stream",
     "text": [
      "Total samples considered :\t\t 67836\n",
      "Count of labelled points at  95 % :\t 3391\n",
      "Count of unlabelled points at  95 % :\t 64445\n",
      "\n",
      "Accuracy with 95 % unlabelled data\t 0.83\n",
      "\n",
      "Metrics:\n",
      "\n",
      "\n",
      "Run time  :\t 156.01  seconds\n"
     ]
    }
   ],
   "source": [
    "# 50% labelled data\n",
    "\n",
    "ml,unlabeled_set_95 = maskfunc(y, 95)\n",
    "GNBClassifier.fit(x,ml)\n",
    "gnb_sp_score_95 = GNBClassifier.score(x, ml)\n",
    "print('\\nAccuracy with 95 % unlabelled data\\t',round(gnb_sp_score_95,2))\n",
    "end = time.time()\n",
    "print('\\nMetrics:\\n')\n",
    "print('\\nRun time  :\\t',round(end-start, 2),' seconds')"
   ]
  },
  {
   "cell_type": "markdown",
   "metadata": {},
   "source": [
    "# Semi supervised - ML-KNN"
   ]
  },
  {
   "cell_type": "code",
   "execution_count": 11,
   "metadata": {},
   "outputs": [],
   "source": [
    "from pomegranate import *\n",
    "d1 = IndependentComponentsDistribution([NormalDistribution(5, 2), NormalDistribution(6, 1), NormalDistribution(9, 1)])\n",
    "d2 = IndependentComponentsDistribution([NormalDistribution(2, 1), NormalDistribution(8, 1), NormalDistribution(5, 1)])\n",
    "d3 = IndependentComponentsDistribution([NormalDistribution(3, 1), NormalDistribution(5, 3), NormalDistribution(4, 1)])\n",
    "model = NaiveBayes([d1, d2, d3])"
   ]
  },
  {
   "cell_type": "code",
   "execution_count": null,
   "metadata": {},
   "outputs": [],
   "source": [
    "model = NaiveBayes.from_samples(NormalDistribution, x, y)"
   ]
  },
  {
   "cell_type": "markdown",
   "metadata": {},
   "source": [
    "# Semi supervised - KNN"
   ]
  },
  {
   "cell_type": "code",
   "execution_count": 12,
   "metadata": {},
   "outputs": [],
   "source": [
    "# classification report and confusion matrix function\n",
    "from sklearn.metrics import roc_curve,auc,precision_recall_curve,confusion_matrix,accuracy_score,classification_report\n",
    "import numpy as np\n",
    "def report_knn_conf(unlabeled_set_value, percen):\n",
    "    unlabeled_set = unlabeled_set_value\n",
    "    predicted_labels = KNNClassifier.transduction_[unlabeled_set]\n",
    "    true_labels = y[unlabeled_set]\n",
    "    \n",
    "    cm = confusion_matrix(true_labels, predicted_labels, labels=label_prop_model.classes_)\n",
    "    print('Classifcation report at ',percen,'% :\\n')\n",
    "    print(classification_report(true_labels, predicted_labels))\n",
    "\n",
    "    print('Confusion matrix at ',percen,'% :\\n',cm)"
   ]
  },
  {
   "cell_type": "code",
   "execution_count": 14,
   "metadata": {},
   "outputs": [
    {
     "name": "stdout",
     "output_type": "stream",
     "text": [
      "Total samples considered :\t\t 67836\n",
      "Count of labelled points at  10 % :\t 61052\n",
      "Count of unlabelled points at  10 % :\t 6784\n",
      "\n",
      "Accuracy with 95 % unlabelled data\t 0.59\n",
      "\n",
      "Metrics:\n",
      "\n",
      "\n",
      "Run time  :\t 141.24  seconds\n"
     ]
    }
   ],
   "source": [
    "# KNN classifier\n",
    "import time\n",
    "from sklearn.neighbors import KNeighborsClassifier\n",
    "\n",
    "start = time.time()\n",
    "KNNClassifier = KNeighborsClassifier(n_neighbors=8)\n",
    "\n",
    "# 90% labelled data\n",
    "ml,unlabeled_set_10 = maskfunc(y,10)\n",
    "KNNClassifier.fit(x,ml)\n",
    "knn_score_10 = KNNClassifier.score(x, ml)\n",
    "print('\\nAccuracy with 10 % unlabelled data\\t',round(knn_score_10,2))\n",
    "end = time.time()\n",
    "print('\\nMetrics:\\n')\n",
    "print('\\nRun time  :\\t',round(end-start, 2),' seconds')\n",
    "\n"
   ]
  },
  {
   "cell_type": "code",
   "execution_count": 15,
   "metadata": {},
   "outputs": [
    {
     "name": "stdout",
     "output_type": "stream",
     "text": [
      "\n",
      "Accuracy with 95 % unlabelled data\t 0.65\n",
      "\n",
      "Metrics:\n",
      "\n",
      "\n",
      "Run time  :\t 288.46  seconds\n"
     ]
    }
   ],
   "source": [
    "# 100% labelled data\n",
    "KNNClassifier.fit(x,y)\n",
    "knn_score_0 = KNNClassifier.score(x, y)\n",
    "print('\\nAccuracy with 0 % unlabelled data\\t',round(knn_score_0,2))\n",
    "end = time.time()\n",
    "print('\\nMetrics:\\n')\n",
    "print('\\nRun time  :\\t',round(end-start, 2),' seconds')\n"
   ]
  },
  {
   "cell_type": "code",
   "execution_count": 16,
   "metadata": {},
   "outputs": [
    {
     "name": "stdout",
     "output_type": "stream",
     "text": [
      "Total samples considered :\t\t 67836\n",
      "Count of labelled points at  20 % :\t 54268\n",
      "Count of unlabelled points at  20 % :\t 13568\n",
      "\n",
      "Accuracy with 20 % unlabelled data\t 0.56\n",
      "\n",
      "Metrics:\n",
      "\n",
      "\n",
      "Run time  :\t 520.32  seconds\n"
     ]
    }
   ],
   "source": [
    "# 80% labelled data\n",
    "ml,unlabeled_set_20 = maskfunc(y,20)\n",
    "KNNClassifier.fit(x,ml)\n",
    "knn_score_20 = KNNClassifier.score(x, ml)\n",
    "print('\\nAccuracy with 20 % unlabelled data\\t',round(knn_score_20,2))\n",
    "end = time.time()\n",
    "print('\\nMetrics:\\n')\n",
    "print('\\nRun time  :\\t',round(end-start, 2),' seconds')"
   ]
  },
  {
   "cell_type": "code",
   "execution_count": 17,
   "metadata": {},
   "outputs": [
    {
     "name": "stdout",
     "output_type": "stream",
     "text": [
      "Total samples considered :\t\t 67836\n",
      "Count of labelled points at  50 % :\t 33918\n",
      "Count of unlabelled points at  50 % :\t 33918\n",
      "\n",
      "Accuracy with 50 % unlabelled data\t 0.65\n",
      "\n",
      "Metrics:\n",
      "\n",
      "\n",
      "Run time  :\t 766.73  seconds\n"
     ]
    }
   ],
   "source": [
    "# 50% labelled data\n",
    "ml,unlabeled_set_50 = maskfunc(y,50)\n",
    "KNNClassifier.fit(x,ml)\n",
    "knn_score_50 = KNNClassifier.score(x, ml)\n",
    "print('\\nAccuracy with 50 % unlabelled data\\t',round(knn_score_50,2))\n",
    "end = time.time()\n",
    "print('\\nMetrics:\\n')\n",
    "print('\\nRun time  :\\t',round(end-start, 2),' seconds')"
   ]
  },
  {
   "cell_type": "code",
   "execution_count": 18,
   "metadata": {},
   "outputs": [
    {
     "name": "stdout",
     "output_type": "stream",
     "text": [
      "Total samples considered :\t\t 67836\n",
      "Count of labelled points at  90 % :\t 6783\n",
      "Count of unlabelled points at  90 % :\t 61053\n",
      "\n",
      "Accuracy with 10 % unlabelled data\t 0.9\n",
      "\n",
      "Metrics:\n",
      "\n",
      "\n",
      "Run time  :\t 977.85  seconds\n"
     ]
    }
   ],
   "source": [
    "# 10% labelled data\n",
    "ml,unlabeled_set_90 = maskfunc(y,90)\n",
    "KNNClassifier.fit(x,ml)\n",
    "knn_score_90 = KNNClassifier.score(x, ml)\n",
    "print('\\nAccuracy with 10 % unlabelled data\\t',round(knn_score_90,2))\n",
    "end = time.time()\n",
    "print('\\nMetrics:\\n')\n",
    "print('\\nRun time  :\\t',round(end-start, 2),' seconds')"
   ]
  },
  {
   "cell_type": "code",
   "execution_count": 19,
   "metadata": {},
   "outputs": [
    {
     "name": "stdout",
     "output_type": "stream",
     "text": [
      "Total samples considered :\t\t 67836\n",
      "Count of labelled points at  95 % :\t 3391\n",
      "Count of unlabelled points at  95 % :\t 64445\n",
      "\n",
      "Accuracy with 5 % unlabelled data\t 0.95\n",
      "\n",
      "Metrics:\n",
      "\n",
      "\n",
      "Run time  :\t 1189.91  seconds\n"
     ]
    }
   ],
   "source": [
    "# 5% labelled data\n",
    "ml,unlabeled_set_95 = maskfunc(y,95)\n",
    "KNNClassifier.fit(x,ml)\n",
    "knn_score_95 = KNNClassifier.score(x, ml)\n",
    "print('\\nAccuracy with 5 % unlabelled data\\t',round(knn_score_95,2))\n",
    "end = time.time()\n",
    "print('\\nMetrics:\\n')\n",
    "print('\\nRun time  :\\t',round(end-start, 2),' seconds')"
   ]
  },
  {
   "cell_type": "code",
   "execution_count": null,
   "metadata": {},
   "outputs": [],
   "source": []
  }
 ],
 "metadata": {
  "kernelspec": {
   "display_name": "Python 3",
   "language": "python",
   "name": "python3"
  },
  "language_info": {
   "codemirror_mode": {
    "name": "ipython",
    "version": 3
   },
   "file_extension": ".py",
   "mimetype": "text/x-python",
   "name": "python",
   "nbconvert_exporter": "python",
   "pygments_lexer": "ipython3",
   "version": "3.8.3"
  }
 },
 "nbformat": 4,
 "nbformat_minor": 4
}
